{
 "cells": [
  {
   "cell_type": "markdown",
   "metadata": {},
   "source": [
    "# Ridge and Lasso Regression - Lab"
   ]
  },
  {
   "cell_type": "markdown",
   "metadata": {},
   "source": [
    "## Introduction"
   ]
  },
  {
   "cell_type": "markdown",
   "metadata": {},
   "source": [
    "In this lab, you'll practice your knowledge on Ridge and Lasso regression!"
   ]
  },
  {
   "cell_type": "markdown",
   "metadata": {},
   "source": [
    "## Objectives"
   ]
  },
  {
   "cell_type": "markdown",
   "metadata": {},
   "source": [
    "You will be able to:"
   ]
  },
  {
   "cell_type": "markdown",
   "metadata": {},
   "source": [
    "- Use Lasso and ridge regression in Python\n",
    "- Compare Lasso and Ridge with standard regression"
   ]
  },
  {
   "cell_type": "markdown",
   "metadata": {},
   "source": [
    "## Housing Prices Data"
   ]
  },
  {
   "cell_type": "markdown",
   "metadata": {},
   "source": [
    "Let's look at yet another house pricing data set."
   ]
  },
  {
   "cell_type": "code",
   "execution_count": 1,
   "metadata": {},
   "outputs": [],
   "source": [
    "import pandas as pd\n",
    "import warnings\n",
    "warnings.filterwarnings('ignore')\n",
    "\n",
    "df = pd.read_csv('Housing_Prices/train.csv')"
   ]
  },
  {
   "cell_type": "markdown",
   "metadata": {},
   "source": [
    "Look at df.info"
   ]
  },
  {
   "cell_type": "code",
   "execution_count": 2,
   "metadata": {},
   "outputs": [
    {
     "name": "stdout",
     "output_type": "stream",
     "text": [
      "<class 'pandas.core.frame.DataFrame'>\n",
      "RangeIndex: 1460 entries, 0 to 1459\n",
      "Data columns (total 81 columns):\n",
      "Id               1460 non-null int64\n",
      "MSSubClass       1460 non-null int64\n",
      "MSZoning         1460 non-null object\n",
      "LotFrontage      1201 non-null float64\n",
      "LotArea          1460 non-null int64\n",
      "Street           1460 non-null object\n",
      "Alley            91 non-null object\n",
      "LotShape         1460 non-null object\n",
      "LandContour      1460 non-null object\n",
      "Utilities        1460 non-null object\n",
      "LotConfig        1460 non-null object\n",
      "LandSlope        1460 non-null object\n",
      "Neighborhood     1460 non-null object\n",
      "Condition1       1460 non-null object\n",
      "Condition2       1460 non-null object\n",
      "BldgType         1460 non-null object\n",
      "HouseStyle       1460 non-null object\n",
      "OverallQual      1460 non-null int64\n",
      "OverallCond      1460 non-null int64\n",
      "YearBuilt        1460 non-null int64\n",
      "YearRemodAdd     1460 non-null int64\n",
      "RoofStyle        1460 non-null object\n",
      "RoofMatl         1460 non-null object\n",
      "Exterior1st      1460 non-null object\n",
      "Exterior2nd      1460 non-null object\n",
      "MasVnrType       1452 non-null object\n",
      "MasVnrArea       1452 non-null float64\n",
      "ExterQual        1460 non-null object\n",
      "ExterCond        1460 non-null object\n",
      "Foundation       1460 non-null object\n",
      "BsmtQual         1423 non-null object\n",
      "BsmtCond         1423 non-null object\n",
      "BsmtExposure     1422 non-null object\n",
      "BsmtFinType1     1423 non-null object\n",
      "BsmtFinSF1       1460 non-null int64\n",
      "BsmtFinType2     1422 non-null object\n",
      "BsmtFinSF2       1460 non-null int64\n",
      "BsmtUnfSF        1460 non-null int64\n",
      "TotalBsmtSF      1460 non-null int64\n",
      "Heating          1460 non-null object\n",
      "HeatingQC        1460 non-null object\n",
      "CentralAir       1460 non-null object\n",
      "Electrical       1459 non-null object\n",
      "1stFlrSF         1460 non-null int64\n",
      "2ndFlrSF         1460 non-null int64\n",
      "LowQualFinSF     1460 non-null int64\n",
      "GrLivArea        1460 non-null int64\n",
      "BsmtFullBath     1460 non-null int64\n",
      "BsmtHalfBath     1460 non-null int64\n",
      "FullBath         1460 non-null int64\n",
      "HalfBath         1460 non-null int64\n",
      "BedroomAbvGr     1460 non-null int64\n",
      "KitchenAbvGr     1460 non-null int64\n",
      "KitchenQual      1460 non-null object\n",
      "TotRmsAbvGrd     1460 non-null int64\n",
      "Functional       1460 non-null object\n",
      "Fireplaces       1460 non-null int64\n",
      "FireplaceQu      770 non-null object\n",
      "GarageType       1379 non-null object\n",
      "GarageYrBlt      1379 non-null float64\n",
      "GarageFinish     1379 non-null object\n",
      "GarageCars       1460 non-null int64\n",
      "GarageArea       1460 non-null int64\n",
      "GarageQual       1379 non-null object\n",
      "GarageCond       1379 non-null object\n",
      "PavedDrive       1460 non-null object\n",
      "WoodDeckSF       1460 non-null int64\n",
      "OpenPorchSF      1460 non-null int64\n",
      "EnclosedPorch    1460 non-null int64\n",
      "3SsnPorch        1460 non-null int64\n",
      "ScreenPorch      1460 non-null int64\n",
      "PoolArea         1460 non-null int64\n",
      "PoolQC           7 non-null object\n",
      "Fence            281 non-null object\n",
      "MiscFeature      54 non-null object\n",
      "MiscVal          1460 non-null int64\n",
      "MoSold           1460 non-null int64\n",
      "YrSold           1460 non-null int64\n",
      "SaleType         1460 non-null object\n",
      "SaleCondition    1460 non-null object\n",
      "SalePrice        1460 non-null int64\n",
      "dtypes: float64(3), int64(35), object(43)\n",
      "memory usage: 924.0+ KB\n"
     ]
    }
   ],
   "source": [
    "# Your code here\n",
    "df.info()"
   ]
  },
  {
   "cell_type": "markdown",
   "metadata": {},
   "source": [
    "We'll make a first selection of the data by removing some of the data with `dtype = object`, this way our first model only contains **continuous features**\n",
    "\n",
    "Make sure to remove the SalesPrice column from the predictors (which you store in `X`), then replace missing inputs by the median per feature.\n",
    "\n",
    "Store the target in `y`."
   ]
  },
  {
   "cell_type": "code",
   "execution_count": null,
   "metadata": {},
   "outputs": [],
   "source": [
    "# Load necessary packages\n",
    "import numpy as np\n",
    "from sklearn.model_selection import train_test_split\n",
    "from sklearn.linear_model import LinearRegression\n",
    "\n",
    "# remove \"object\"-type features and SalesPrice from `X`\n",
    "features = [col for col in df.columns if df[col].dtype != object and col != 'SalePrice']\n",
    "X = df[features]\n",
    "\n",
    "# Impute null values\n",
    "for col in X:\n",
    "    med = X[col].median()\n",
    "    X[col].fillna(value = med, inplace = True)\n",
    "\n",
    "# Create y\n",
    "y = df.SalePrice"
   ]
  },
  {
   "cell_type": "markdown",
   "metadata": {},
   "source": [
    "Look at the information of `X` again"
   ]
  },
  {
   "cell_type": "code",
   "execution_count": 29,
   "metadata": {},
   "outputs": [
    {
     "name": "stdout",
     "output_type": "stream",
     "text": [
      "<class 'pandas.core.frame.DataFrame'>\n",
      "RangeIndex: 1460 entries, 0 to 1459\n",
      "Data columns (total 37 columns):\n",
      "Id               1460 non-null int64\n",
      "MSSubClass       1460 non-null int64\n",
      "LotFrontage      1460 non-null float64\n",
      "LotArea          1460 non-null int64\n",
      "OverallQual      1460 non-null int64\n",
      "OverallCond      1460 non-null int64\n",
      "YearBuilt        1460 non-null int64\n",
      "YearRemodAdd     1460 non-null int64\n",
      "MasVnrArea       1460 non-null float64\n",
      "BsmtFinSF1       1460 non-null int64\n",
      "BsmtFinSF2       1460 non-null int64\n",
      "BsmtUnfSF        1460 non-null int64\n",
      "TotalBsmtSF      1460 non-null int64\n",
      "1stFlrSF         1460 non-null int64\n",
      "2ndFlrSF         1460 non-null int64\n",
      "LowQualFinSF     1460 non-null int64\n",
      "GrLivArea        1460 non-null int64\n",
      "BsmtFullBath     1460 non-null int64\n",
      "BsmtHalfBath     1460 non-null int64\n",
      "FullBath         1460 non-null int64\n",
      "HalfBath         1460 non-null int64\n",
      "BedroomAbvGr     1460 non-null int64\n",
      "KitchenAbvGr     1460 non-null int64\n",
      "TotRmsAbvGrd     1460 non-null int64\n",
      "Fireplaces       1460 non-null int64\n",
      "GarageYrBlt      1460 non-null float64\n",
      "GarageCars       1460 non-null int64\n",
      "GarageArea       1460 non-null int64\n",
      "WoodDeckSF       1460 non-null int64\n",
      "OpenPorchSF      1460 non-null int64\n",
      "EnclosedPorch    1460 non-null int64\n",
      "3SsnPorch        1460 non-null int64\n",
      "ScreenPorch      1460 non-null int64\n",
      "PoolArea         1460 non-null int64\n",
      "MiscVal          1460 non-null int64\n",
      "MoSold           1460 non-null int64\n",
      "YrSold           1460 non-null int64\n",
      "dtypes: float64(3), int64(34)\n",
      "memory usage: 422.1 KB\n"
     ]
    }
   ],
   "source": [
    "X.info()"
   ]
  },
  {
   "cell_type": "markdown",
   "metadata": {},
   "source": [
    "## Let's use this data to perform a first naive linear regression model"
   ]
  },
  {
   "cell_type": "markdown",
   "metadata": {},
   "source": [
    "Compute the R squared and the MSE for both train and test set."
   ]
  },
  {
   "cell_type": "code",
   "execution_count": 30,
   "metadata": {},
   "outputs": [
    {
     "name": "stdout",
     "output_type": "stream",
     "text": [
      "Train R2:  0.8118730326467865\n",
      "Test R2:  0.7818118600758989\n",
      "Train MSE:  1171889159.3350675\n",
      "Test MSE:  1425050189.6543164\n"
     ]
    }
   ],
   "source": [
    "from sklearn.metrics import mean_squared_error, mean_squared_log_error\n",
    "\n",
    "# Split in train and test\n",
    "X_train, X_test, y_train, y_test = train_test_split(X, y)\n",
    "\n",
    "# Fit the model and print R2 and MSE for train and test\n",
    "linreg = LinearRegression()\n",
    "linreg.fit(X_train, y_train)\n",
    "\n",
    "print('Train R2: ', linreg.score(X_train, y_train))\n",
    "print('Test R2: ', linreg.score(X_test, y_test))\n",
    "print('Train MSE: ', mean_squared_error(y_train, linreg.predict(X_train)))\n",
    "print('Test MSE: ', mean_squared_error(y_test, linreg.predict(X_test)))"
   ]
  },
  {
   "cell_type": "markdown",
   "metadata": {},
   "source": [
    "## Normalize your data"
   ]
  },
  {
   "cell_type": "markdown",
   "metadata": {},
   "source": [
    "We haven't normalized our data, let's create a new model that uses `preprocessing.scale` to scale our predictors!"
   ]
  },
  {
   "cell_type": "code",
   "execution_count": 31,
   "metadata": {},
   "outputs": [],
   "source": [
    "from sklearn import preprocessing\n",
    "\n",
    "# scale the data and perform train test split\n",
    "X_scaled = preprocessing.scale(X)\n",
    "\n",
    "X_train, X_test, y_train, y_test = train_test_split(X_scaled,y)"
   ]
  },
  {
   "cell_type": "markdown",
   "metadata": {},
   "source": [
    "Perform the same linear regression on this data and print out R-squared and MSE."
   ]
  },
  {
   "cell_type": "code",
   "execution_count": 32,
   "metadata": {},
   "outputs": [
    {
     "name": "stdout",
     "output_type": "stream",
     "text": [
      "Train R2:  -41.266585466209854\n",
      "Test R2:  -25.464888335976198\n",
      "Train MSE:  232060790667.00577\n",
      "Test MSE:  230021717359.75085\n"
     ]
    }
   ],
   "source": [
    "# Your code here\n",
    "linreg_norm = LinearRegression()\n",
    "linreg_norm.fit(X_train, y_train)\n",
    "\n",
    "print('Train R2: ', linreg.score(X_train, y_train))\n",
    "print('Test R2: ', linreg.score(X_test, y_test))\n",
    "print('Train MSE: ', mean_squared_error(y_train, linreg.predict(X_train)))\n",
    "print('Test MSE: ', mean_squared_error(y_test, linreg.predict(X_test)))"
   ]
  },
  {
   "cell_type": "markdown",
   "metadata": {},
   "source": [
    "## Include dummy variables"
   ]
  },
  {
   "cell_type": "markdown",
   "metadata": {},
   "source": [
    "We haven't included dummy variables so far: let's use our \"object\" variables again and create dummies"
   ]
  },
  {
   "cell_type": "code",
   "execution_count": 33,
   "metadata": {},
   "outputs": [],
   "source": [
    "# Create X_cat which contains only the categorical variables\n",
    "features_obj = [col for col in df.columns if df[col].dtypes == object]\n",
    "X_cat = df[features_obj]"
   ]
  },
  {
   "cell_type": "code",
   "execution_count": 34,
   "metadata": {},
   "outputs": [
    {
     "data": {
      "text/plain": [
       "(1460, 43)"
      ]
     },
     "execution_count": 34,
     "metadata": {},
     "output_type": "execute_result"
    }
   ],
   "source": [
    "X_cat.shape"
   ]
  },
  {
   "cell_type": "code",
   "execution_count": 35,
   "metadata": {},
   "outputs": [
    {
     "data": {
      "text/plain": [
       "(1460, 252)"
      ]
     },
     "execution_count": 35,
     "metadata": {},
     "output_type": "execute_result"
    }
   ],
   "source": [
    "# Make dummies\n",
    "X_cat = pd.get_dummies(X_cat)\n",
    "X_cat.shape"
   ]
  },
  {
   "cell_type": "markdown",
   "metadata": {},
   "source": [
    "Merge `x_cat` together with our scaled `X` so you have one big predictor dataframe."
   ]
  },
  {
   "cell_type": "code",
   "execution_count": 36,
   "metadata": {},
   "outputs": [],
   "source": [
    "# Your code here\n",
    "X_all = pd.concat([pd.DataFrame(X_scaled), X_cat], axis=1)"
   ]
  },
  {
   "cell_type": "code",
   "execution_count": 37,
   "metadata": {},
   "outputs": [
    {
     "data": {
      "text/html": [
       "<div>\n",
       "<style scoped>\n",
       "    .dataframe tbody tr th:only-of-type {\n",
       "        vertical-align: middle;\n",
       "    }\n",
       "\n",
       "    .dataframe tbody tr th {\n",
       "        vertical-align: top;\n",
       "    }\n",
       "\n",
       "    .dataframe thead th {\n",
       "        text-align: right;\n",
       "    }\n",
       "</style>\n",
       "<table border=\"1\" class=\"dataframe\">\n",
       "  <thead>\n",
       "    <tr style=\"text-align: right;\">\n",
       "      <th></th>\n",
       "      <th>0</th>\n",
       "      <th>1</th>\n",
       "      <th>2</th>\n",
       "      <th>3</th>\n",
       "      <th>4</th>\n",
       "      <th>5</th>\n",
       "      <th>6</th>\n",
       "      <th>7</th>\n",
       "      <th>8</th>\n",
       "      <th>9</th>\n",
       "      <th>...</th>\n",
       "      <th>SaleType_ConLw</th>\n",
       "      <th>SaleType_New</th>\n",
       "      <th>SaleType_Oth</th>\n",
       "      <th>SaleType_WD</th>\n",
       "      <th>SaleCondition_Abnorml</th>\n",
       "      <th>SaleCondition_AdjLand</th>\n",
       "      <th>SaleCondition_Alloca</th>\n",
       "      <th>SaleCondition_Family</th>\n",
       "      <th>SaleCondition_Normal</th>\n",
       "      <th>SaleCondition_Partial</th>\n",
       "    </tr>\n",
       "  </thead>\n",
       "  <tbody>\n",
       "    <tr>\n",
       "      <th>0</th>\n",
       "      <td>-1.730865</td>\n",
       "      <td>0.073375</td>\n",
       "      <td>-0.220875</td>\n",
       "      <td>-0.207142</td>\n",
       "      <td>0.651479</td>\n",
       "      <td>-0.517200</td>\n",
       "      <td>1.050994</td>\n",
       "      <td>0.878668</td>\n",
       "      <td>0.514104</td>\n",
       "      <td>0.575425</td>\n",
       "      <td>...</td>\n",
       "      <td>0</td>\n",
       "      <td>0</td>\n",
       "      <td>0</td>\n",
       "      <td>1</td>\n",
       "      <td>0</td>\n",
       "      <td>0</td>\n",
       "      <td>0</td>\n",
       "      <td>0</td>\n",
       "      <td>1</td>\n",
       "      <td>0</td>\n",
       "    </tr>\n",
       "    <tr>\n",
       "      <th>1</th>\n",
       "      <td>-1.728492</td>\n",
       "      <td>-0.872563</td>\n",
       "      <td>0.460320</td>\n",
       "      <td>-0.091886</td>\n",
       "      <td>-0.071836</td>\n",
       "      <td>2.179628</td>\n",
       "      <td>0.156734</td>\n",
       "      <td>-0.429577</td>\n",
       "      <td>-0.570750</td>\n",
       "      <td>1.171992</td>\n",
       "      <td>...</td>\n",
       "      <td>0</td>\n",
       "      <td>0</td>\n",
       "      <td>0</td>\n",
       "      <td>1</td>\n",
       "      <td>0</td>\n",
       "      <td>0</td>\n",
       "      <td>0</td>\n",
       "      <td>0</td>\n",
       "      <td>1</td>\n",
       "      <td>0</td>\n",
       "    </tr>\n",
       "    <tr>\n",
       "      <th>2</th>\n",
       "      <td>-1.726120</td>\n",
       "      <td>0.073375</td>\n",
       "      <td>-0.084636</td>\n",
       "      <td>0.073480</td>\n",
       "      <td>0.651479</td>\n",
       "      <td>-0.517200</td>\n",
       "      <td>0.984752</td>\n",
       "      <td>0.830215</td>\n",
       "      <td>0.325915</td>\n",
       "      <td>0.092907</td>\n",
       "      <td>...</td>\n",
       "      <td>0</td>\n",
       "      <td>0</td>\n",
       "      <td>0</td>\n",
       "      <td>1</td>\n",
       "      <td>0</td>\n",
       "      <td>0</td>\n",
       "      <td>0</td>\n",
       "      <td>0</td>\n",
       "      <td>1</td>\n",
       "      <td>0</td>\n",
       "    </tr>\n",
       "    <tr>\n",
       "      <th>3</th>\n",
       "      <td>-1.723747</td>\n",
       "      <td>0.309859</td>\n",
       "      <td>-0.447940</td>\n",
       "      <td>-0.096897</td>\n",
       "      <td>0.651479</td>\n",
       "      <td>-0.517200</td>\n",
       "      <td>-1.863632</td>\n",
       "      <td>-0.720298</td>\n",
       "      <td>-0.570750</td>\n",
       "      <td>-0.499274</td>\n",
       "      <td>...</td>\n",
       "      <td>0</td>\n",
       "      <td>0</td>\n",
       "      <td>0</td>\n",
       "      <td>1</td>\n",
       "      <td>1</td>\n",
       "      <td>0</td>\n",
       "      <td>0</td>\n",
       "      <td>0</td>\n",
       "      <td>0</td>\n",
       "      <td>0</td>\n",
       "    </tr>\n",
       "    <tr>\n",
       "      <th>4</th>\n",
       "      <td>-1.721374</td>\n",
       "      <td>0.073375</td>\n",
       "      <td>0.641972</td>\n",
       "      <td>0.375148</td>\n",
       "      <td>1.374795</td>\n",
       "      <td>-0.517200</td>\n",
       "      <td>0.951632</td>\n",
       "      <td>0.733308</td>\n",
       "      <td>1.366489</td>\n",
       "      <td>0.463568</td>\n",
       "      <td>...</td>\n",
       "      <td>0</td>\n",
       "      <td>0</td>\n",
       "      <td>0</td>\n",
       "      <td>1</td>\n",
       "      <td>0</td>\n",
       "      <td>0</td>\n",
       "      <td>0</td>\n",
       "      <td>0</td>\n",
       "      <td>1</td>\n",
       "      <td>0</td>\n",
       "    </tr>\n",
       "  </tbody>\n",
       "</table>\n",
       "<p>5 rows × 289 columns</p>\n",
       "</div>"
      ],
      "text/plain": [
       "          0         1         2         3         4         5         6  \\\n",
       "0 -1.730865  0.073375 -0.220875 -0.207142  0.651479 -0.517200  1.050994   \n",
       "1 -1.728492 -0.872563  0.460320 -0.091886 -0.071836  2.179628  0.156734   \n",
       "2 -1.726120  0.073375 -0.084636  0.073480  0.651479 -0.517200  0.984752   \n",
       "3 -1.723747  0.309859 -0.447940 -0.096897  0.651479 -0.517200 -1.863632   \n",
       "4 -1.721374  0.073375  0.641972  0.375148  1.374795 -0.517200  0.951632   \n",
       "\n",
       "          7         8         9          ...            SaleType_ConLw  \\\n",
       "0  0.878668  0.514104  0.575425          ...                         0   \n",
       "1 -0.429577 -0.570750  1.171992          ...                         0   \n",
       "2  0.830215  0.325915  0.092907          ...                         0   \n",
       "3 -0.720298 -0.570750 -0.499274          ...                         0   \n",
       "4  0.733308  1.366489  0.463568          ...                         0   \n",
       "\n",
       "   SaleType_New  SaleType_Oth  SaleType_WD  SaleCondition_Abnorml  \\\n",
       "0             0             0            1                      0   \n",
       "1             0             0            1                      0   \n",
       "2             0             0            1                      0   \n",
       "3             0             0            1                      1   \n",
       "4             0             0            1                      0   \n",
       "\n",
       "   SaleCondition_AdjLand  SaleCondition_Alloca  SaleCondition_Family  \\\n",
       "0                      0                     0                     0   \n",
       "1                      0                     0                     0   \n",
       "2                      0                     0                     0   \n",
       "3                      0                     0                     0   \n",
       "4                      0                     0                     0   \n",
       "\n",
       "   SaleCondition_Normal  SaleCondition_Partial  \n",
       "0                     1                      0  \n",
       "1                     1                      0  \n",
       "2                     1                      0  \n",
       "3                     0                      0  \n",
       "4                     1                      0  \n",
       "\n",
       "[5 rows x 289 columns]"
      ]
     },
     "execution_count": 37,
     "metadata": {},
     "output_type": "execute_result"
    }
   ],
   "source": [
    "X_all.head()"
   ]
  },
  {
   "cell_type": "markdown",
   "metadata": {},
   "source": [
    "Perform the same linear regression on this data and print out R-squared and MSE."
   ]
  },
  {
   "cell_type": "code",
   "execution_count": 38,
   "metadata": {},
   "outputs": [
    {
     "name": "stdout",
     "output_type": "stream",
     "text": [
      "Train R2:  0.9404202239130927\n",
      "Test R2:  -1.5096321821221827e+20\n",
      "Train MSE:  10541673389.714155\n",
      "Test MSE:  1.0694805892542209e+30\n"
     ]
    }
   ],
   "source": [
    "# Your code here\n",
    "# Split in train and test\n",
    "X_train_all, X_test_all, y_train_all, y_test_all = train_test_split(X_all, y)\n",
    "\n",
    "# Fit the model and print R2 and MSE for train and test\n",
    "linreg_all = LinearRegression()\n",
    "linreg_all.fit(X_train_all, y_train_all)\n",
    "\n",
    "print('Train R2: ', linreg_all.score(X_train_all, y_train_all))\n",
    "print('Test R2: ', linreg_all.score(X_test_all, y_test_all))\n",
    "print('Train MSE: ', mean_squared_error(y_train, linreg_all.predict(X_train_all)))\n",
    "print('Test MSE: ', mean_squared_error(y_test, linreg_all.predict(X_test_all)))"
   ]
  },
  {
   "cell_type": "markdown",
   "metadata": {},
   "source": [
    "Notice the severe overfitting above; our training R squared is quite high, but the testing R squared is negative! Our predictions are far far off. Similarly, the scale of the Testing MSE is orders of magnitude higher then that of the training."
   ]
  },
  {
   "cell_type": "markdown",
   "metadata": {},
   "source": [
    "## Perform Ridge and Lasso regression"
   ]
  },
  {
   "cell_type": "markdown",
   "metadata": {},
   "source": [
    "Use all the data (normalized features and dummy categorical variables) and perform Lasso and Ridge regression for both! Each time, look at R-squared and MSE."
   ]
  },
  {
   "cell_type": "markdown",
   "metadata": {},
   "source": [
    "## Lasso"
   ]
  },
  {
   "cell_type": "markdown",
   "metadata": {},
   "source": [
    "With default parameter (alpha = 1)"
   ]
  },
  {
   "cell_type": "code",
   "execution_count": 45,
   "metadata": {},
   "outputs": [
    {
     "name": "stdout",
     "output_type": "stream",
     "text": [
      "Training r^2: 0.940384300763371\n",
      "Testing r^2: 0.6114389666201261\n",
      "Training MSE: 360501273.54450905\n",
      "Testing MSE: 2752713461.392247\n"
     ]
    }
   ],
   "source": [
    "# Your code here\n",
    "from sklearn.linear_model import Lasso, Ridge\n",
    "\n",
    "lasso = Lasso() \n",
    "lasso.fit(X_train_all, y_train_all)\n",
    "print('Training r^2:', lasso.score(X_train_all, y_train_all))\n",
    "print('Testing r^2:', lasso.score(X_test_all, y_test_all))\n",
    "print('Training MSE:', mean_squared_error(y_train_all, lasso.predict(X_train_all)))\n",
    "print('Testing MSE:', mean_squared_error(y_test_all, lasso.predict(X_test_all)))"
   ]
  },
  {
   "cell_type": "markdown",
   "metadata": {},
   "source": [
    "With a higher regularization parameter (alpha = 10)"
   ]
  },
  {
   "cell_type": "code",
   "execution_count": 46,
   "metadata": {},
   "outputs": [
    {
     "name": "stdout",
     "output_type": "stream",
     "text": [
      "Training r^2: 0.9389658961794641\n",
      "Testing r^2: 0.6442193110770569\n",
      "Training MSE: 369078488.3628769\n",
      "Testing MSE: 2520485091.3192997\n"
     ]
    }
   ],
   "source": [
    "# Your code here\n",
    "lasso = Lasso(alpha=10) \n",
    "lasso.fit(X_train_all, y_train_all)\n",
    "print('Training r^2:', lasso.score(X_train_all, y_train_all))\n",
    "print('Testing r^2:', lasso.score(X_test_all, y_test_all))\n",
    "print('Training MSE:', mean_squared_error(y_train_all, lasso.predict(X_train_all)))\n",
    "print('Testing MSE:', mean_squared_error(y_test_all, lasso.predict(X_test_all)))"
   ]
  },
  {
   "cell_type": "markdown",
   "metadata": {},
   "source": [
    "## Ridge"
   ]
  },
  {
   "cell_type": "markdown",
   "metadata": {},
   "source": [
    "With default parameter (alpha = 1)"
   ]
  },
  {
   "cell_type": "code",
   "execution_count": 41,
   "metadata": {},
   "outputs": [
    {
     "name": "stdout",
     "output_type": "stream",
     "text": [
      "Training r^2: 0.8410641988379755\n",
      "Testing r^2: 0.7096425242120267\n",
      "Training MSE: 872622362.940566\n",
      "Testing MSE: 2523665483.908353\n"
     ]
    }
   ],
   "source": [
    "# Your code here\n",
    "ridge = Ridge(alpha=1)\n",
    "ridge.fit(X_train, y_train)\n",
    "print('Training r^2:', ridge.score(X_train, y_train))\n",
    "print('Testing r^2:', ridge.score(X_test, y_test))\n",
    "print('Training MSE:', mean_squared_error(y_train, ridge.predict(X_train)))\n",
    "print('Testing MSE:', mean_squared_error(y_test, ridge.predict(X_test)))"
   ]
  },
  {
   "cell_type": "markdown",
   "metadata": {},
   "source": [
    "With default parameter (alpha = 10)"
   ]
  },
  {
   "cell_type": "code",
   "execution_count": 42,
   "metadata": {},
   "outputs": [
    {
     "name": "stdout",
     "output_type": "stream",
     "text": [
      "Training r^2: 0.8410261168923527\n",
      "Testing r^2: 0.7103678742708416\n",
      "Training MSE: 872831448.3519812\n",
      "Testing MSE: 2517361045.208388\n"
     ]
    }
   ],
   "source": [
    "# Your code here\n",
    "ridge = Ridge(alpha=10) \n",
    "ridge.fit(X_train, y_train)\n",
    "print('Training r^2:', ridge.score(X_train, y_train))\n",
    "print('Testing r^2:', ridge.score(X_test, y_test))\n",
    "print('Training MSE:', mean_squared_error(y_train, ridge.predict(X_train)))\n",
    "print('Testing MSE:', mean_squared_error(y_test, ridge.predict(X_test)))"
   ]
  },
  {
   "cell_type": "markdown",
   "metadata": {},
   "source": [
    "## Look at the metrics, what are your main conclusions?"
   ]
  },
  {
   "cell_type": "markdown",
   "metadata": {},
   "source": [
    "Conclusions here"
   ]
  },
  {
   "cell_type": "markdown",
   "metadata": {},
   "source": []
  },
  {
   "cell_type": "markdown",
   "metadata": {},
   "source": [
    "## Compare number of parameter estimates that are (very close to) 0 for Ridge and Lasso"
   ]
  },
  {
   "cell_type": "code",
   "execution_count": 47,
   "metadata": {},
   "outputs": [
    {
     "name": "stdout",
     "output_type": "stream",
     "text": [
      "Ridge Coefficients:  [-1.28609300e+03 -6.34232371e+03 -1.22208645e+03  4.86968891e+03\n",
      "  2.22002484e+04  4.27778154e+03  8.47161592e+03  4.55650110e+03\n",
      "  4.95300705e+03  3.63109844e+03  9.77654635e+02  3.27318592e+02\n",
      "  4.46423319e+03  7.79679417e+03  7.22074144e+03  1.09743780e+03\n",
      "  1.18359600e+04  5.45485492e+03  8.53427778e+02  2.44974516e+03\n",
      " -4.47831087e+02 -8.59115115e+03 -3.06587873e+03  1.03840215e+04\n",
      "  2.88392414e+03  1.56419678e+03  7.63145825e+03  3.51939207e+02\n",
      "  1.66692235e+03  1.11591591e+03  2.07090712e+03  2.90236847e+00\n",
      "  3.73536823e+03 -9.84251217e+03 -3.83934794e+01  8.31289232e+02\n",
      " -1.08683119e+02]\n"
     ]
    }
   ],
   "source": [
    "# number of Ridge params almost zero\n",
    "print('Ridge Coefficients: ', ridge.coef_)"
   ]
  },
  {
   "cell_type": "code",
   "execution_count": 48,
   "metadata": {},
   "outputs": [
    {
     "name": "stdout",
     "output_type": "stream",
     "text": [
      "Lasso Coefficients:  [ 7.62657683e+01 -2.57755442e+03  1.71763256e+03  7.61156199e+03\n",
      "  8.26122256e+03  6.67460871e+03  1.15797714e+04  2.28186923e+03\n",
      "  3.17383545e+03  6.54867118e+03  1.24200151e+03 -0.00000000e+00\n",
      "  1.06396661e+04  1.11574352e+04  2.24955425e+04 -3.98355252e+02\n",
      "  9.97436756e+03  1.18583766e+03  4.33757677e+02  2.24633638e+03\n",
      " -3.24964110e+01 -4.41693323e+03 -2.90966181e+03  1.66871669e+03\n",
      "  1.92388864e+03  1.90618636e+02  5.43802099e+03  1.24601580e+03\n",
      "  2.80579768e+03  1.23826136e+03  1.07280546e+03  1.25564808e+03\n",
      "  2.03610760e+03 -1.01925019e+03 -1.90787877e+03 -1.17014776e+03\n",
      " -3.54671751e+02 -2.00783124e+04  4.84451434e+03 -0.00000000e+00\n",
      "  9.19596236e+02 -5.28723271e+03 -3.21832182e+04  4.23461483e-09\n",
      "  9.85267390e+02  1.99266510e+03  1.14118228e+01 -2.28605571e+03\n",
      " -6.18674070e+03  2.06572000e+03  7.10924377e+02  1.04998020e+02\n",
      " -1.03109725e+04 -4.63485375e+00  1.58217584e+04 -4.66086937e-10\n",
      "  7.36154756e+02  1.00775401e+04 -5.59487808e+03 -4.03652455e+03\n",
      "  0.00000000e+00 -0.00000000e+00  4.70321337e+03 -3.98751835e+04\n",
      " -2.22013098e+03  1.74928752e+03  8.68166920e+03  5.76466257e+03\n",
      " -4.60744865e+03 -3.76159797e+03  2.08630952e+04 -9.63025043e+03\n",
      " -8.60133800e+03  8.48134802e+01  1.20018227e+04 -1.28828949e+04\n",
      " -5.94415902e+03  1.67735378e+04 -1.02895945e+04  2.70717230e+04\n",
      "  1.21554457e+04 -4.28265190e+03 -5.21484351e+03 -0.00000000e+00\n",
      " -6.00142232e+02  5.62790914e+02  4.50975685e+04 -6.22530536e+03\n",
      "  1.08215925e+04 -1.96761976e+03  0.00000000e+00  8.55205715e+03\n",
      " -0.00000000e+00  5.33088111e+03 -1.20109804e+04  6.84735659e+03\n",
      " -2.06573175e+04  0.00000000e+00  0.00000000e+00  0.00000000e+00\n",
      " -4.64374552e+03  1.30338429e+04  0.00000000e+00 -2.75090465e+04\n",
      " -0.00000000e+00  0.00000000e+00  1.17378712e+04  6.51436619e+03\n",
      " -0.00000000e+00 -1.69213165e+03 -0.00000000e+00  0.00000000e+00\n",
      "  7.73177405e+03  4.90709725e+03 -1.20892449e+04 -6.31830783e+03\n",
      " -5.01952416e+03 -0.00000000e+00  6.76266347e+03 -0.00000000e+00\n",
      " -1.23497608e+03 -3.52164271e+03  0.00000000e+00  8.88686561e+03\n",
      "  3.64716469e+04  0.00000000e+00 -4.33274363e+03  5.32301615e+04\n",
      "  0.00000000e+00 -0.00000000e+00 -1.03170359e+04  0.00000000e+00\n",
      "  3.95545842e+04  4.70377125e+02 -0.00000000e+00  0.00000000e+00\n",
      "  1.59434836e+04 -8.04466664e+03 -1.20237978e+04 -0.00000000e+00\n",
      " -0.00000000e+00  2.61940646e+03 -3.04584212e+03  0.00000000e+00\n",
      "  8.41809968e+03 -0.00000000e+00 -5.46588156e+03  3.66846314e+03\n",
      "  0.00000000e+00 -0.00000000e+00  0.00000000e+00  0.00000000e+00\n",
      " -8.63177639e+02  8.06613920e+03 -0.00000000e+00 -4.49778858e+02\n",
      "  1.66078571e+03 -2.12663735e+04  0.00000000e+00 -1.26854543e+04\n",
      " -4.17722676e+02  1.53187936e+03  6.42149925e+03 -2.33310697e+03\n",
      " -6.96271800e+03 -6.31142653e+02  2.43420621e+03  7.10790969e+03\n",
      "  2.31305254e+04  1.00310263e+04 -3.63820924e+02 -3.33598282e+03\n",
      "  3.47168260e+03  3.45450767e+02 -4.15184556e+03  0.00000000e+00\n",
      " -6.21899782e-01 -0.00000000e+00 -1.47470182e+03  5.74462331e+01\n",
      " -2.69464247e+02  0.00000000e+00  0.00000000e+00  7.39384884e+03\n",
      " -1.46645248e-02 -1.06651297e+04 -6.26358664e+03 -1.19430759e+04\n",
      " -1.17333674e+04  2.92157483e+04 -9.33927721e+03 -1.01657870e+03\n",
      "  1.72340755e+04 -1.39982736e+03 -3.58871374e+03 -1.44469113e+03\n",
      " -1.76986900e+02  5.61828659e+03 -3.65542721e+03 -2.09820703e+03\n",
      "  2.75629493e+02  3.99738344e+03 -9.88793237e+03  1.07439853e+04\n",
      " -5.43726641e+02 -2.00518861e+03 -0.00000000e+00 -0.00000000e+00\n",
      "  2.49579486e+03  0.00000000e+00 -6.30442296e+03 -1.60108638e+04\n",
      "  0.00000000e+00  2.40593573e+03  2.77008299e+03 -0.00000000e+00\n",
      " -0.00000000e+00 -5.62231808e+02  3.12621175e+03 -9.10336333e-10\n",
      " -0.00000000e+00  2.16303032e+03 -0.00000000e+00  0.00000000e+00\n",
      " -6.51178052e+02  1.86247113e+04  2.34526112e+03 -2.27349260e+03\n",
      " -5.38101845e+02 -7.23764942e+03  0.00000000e+00 -0.00000000e+00\n",
      "  3.02885148e+03 -5.67621017e+03  0.00000000e+00  1.43367286e+04\n",
      " -0.00000000e+00 -6.10907305e+03 -2.12513956e+03  1.96992286e+03\n",
      " -2.25467339e+03 -2.85727114e+04 -4.62903989e+03 -5.12289668e+03\n",
      "  2.61091156e+02 -3.41682439e+02 -0.00000000e+00 -6.28748328e+03\n",
      " -7.18530124e+03 -5.66245182e+03  0.00000000e+00 -4.69030372e+03\n",
      " -0.00000000e+00 -9.75993639e+03 -0.00000000e+00  0.00000000e+00\n",
      " -7.16574964e+03 -1.50132848e+03 -5.07391060e+02 -0.00000000e+00\n",
      " -0.00000000e+00 -4.73515379e+02  1.85915800e+03 -1.23759945e+04\n",
      " -0.00000000e+00  4.20547325e+04 -5.15318220e+03  2.04509179e+03\n",
      " -1.04820590e+03 -5.06163040e+03 -4.02587619e+03  0.00000000e+00\n",
      "  3.73010536e+03 -0.00000000e+00 -1.09685319e+04  1.78892887e+04\n",
      "  9.25061598e+03  1.66808126e+03 -3.08579678e+03 -2.19442137e+03\n",
      "  1.10065646e+04 -0.00000000e+00 -1.07028216e+04 -3.95767498e+03\n",
      "  1.89834367e+03 -2.31227977e+03 -1.25233191e+03  5.10595939e+03\n",
      "  3.81433495e+02]\n"
     ]
    }
   ],
   "source": [
    "# number of Lasso params almost zero\n",
    "print('Lasso Coefficients: ', lasso.coef_)"
   ]
  },
  {
   "cell_type": "markdown",
   "metadata": {},
   "source": [
    "Compare with the total length of the parameter space and draw conclusions!"
   ]
  },
  {
   "cell_type": "code",
   "execution_count": null,
   "metadata": {},
   "outputs": [],
   "source": [
    "# your code here"
   ]
  },
  {
   "cell_type": "markdown",
   "metadata": {},
   "source": [
    "## Summary"
   ]
  },
  {
   "cell_type": "markdown",
   "metadata": {},
   "source": [
    "Great! You now know how to perform Lasso and Ridge regression."
   ]
  }
 ],
 "metadata": {
  "kernelspec": {
   "display_name": "Python 3",
   "language": "python",
   "name": "python3"
  },
  "language_info": {
   "codemirror_mode": {
    "name": "ipython",
    "version": 3
   },
   "file_extension": ".py",
   "mimetype": "text/x-python",
   "name": "python",
   "nbconvert_exporter": "python",
   "pygments_lexer": "ipython3",
   "version": "3.6.6"
  }
 },
 "nbformat": 4,
 "nbformat_minor": 2
}
